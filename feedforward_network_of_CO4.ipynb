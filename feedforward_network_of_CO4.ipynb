{
  "nbformat": 4,
  "nbformat_minor": 0,
  "metadata": {
    "colab": {
      "provenance": [],
      "include_colab_link": true
    },
    "kernelspec": {
      "name": "python3",
      "display_name": "Python 3"
    },
    "language_info": {
      "name": "python"
    }
  },
  "cells": [
    {
      "cell_type": "markdown",
      "metadata": {
        "id": "view-in-github",
        "colab_type": "text"
      },
      "source": [
        "<a href=\"https://colab.research.google.com/github/devadathen/datasciencelab/blob/main/feedforward_network_of_CO4.ipynb\" target=\"_parent\"><img src=\"https://colab.research.google.com/assets/colab-badge.svg\" alt=\"Open In Colab\"/></a>"
      ]
    },
    {
      "cell_type": "code",
      "execution_count": null,
      "metadata": {
        "id": "LK07RO9pFqdp"
      },
      "outputs": [],
      "source": [
        "#Programs on feedforward network to classify any standard dataset available in the public domain.\n",
        "import tensorflow as tf\n",
        "from tensorflow import keras\n",
        "from sklearn.model_selection import train_test_split\n",
        "from sklearn.preprocessing import StandardScaler\n",
        "from sklearn.datasets import load_iris\n",
        "# Load the Iris dataset\n",
        "iris = load_iris()\n",
        "x = iris.data\n",
        "y = iris.target"
      ]
    },
    {
      "cell_type": "code",
      "source": [
        "# Split the dataset into training and testing sets\n",
        "X_train, X_test, y_train, y_test = train_test_split(x, y, test_size=0.2, random_state=42)\n",
        "# Standardize the feature values\n",
        "scaler = StandardScaler()\n",
        "X_train = scaler.fit_transform(X_train)\n",
        "X_test = scaler.transform(X_test)\n",
        "\n",
        "# Build the feedforward neural network model\n",
        "# Output layer with 3 neurons for the 3 classes\n",
        "model = keras.Sequential([\n",
        "    keras.layers.Dense(64, activation='relu', input_shape=(X_train.shape[1],)),\n",
        "    keras.layers.Dense(3, activation='softmax')])\n",
        "# Compile the model\n",
        "model.compile(optimizer='adam', loss='sparse_categorical_crossentropy', metrics=['accuracy'])\n",
        "# Train the model\n",
        "model.fit(X_train, y_train, epochs=50, batch_size=32, validation_split=0.1)\n",
        "# Evaluate the model on the test set\n",
        "test_loss, test_acc = model.evaluate(X_test, y_test)\n",
        "print(f'Test accuracy: {test_acc}')"
      ],
      "metadata": {
        "colab": {
          "base_uri": "https://localhost:8080/"
        },
        "id": "JV9qeL0TYTcA",
        "outputId": "8ab872ee-8e06-4bbb-a070-e042436fa1ad"
      },
      "execution_count": null,
      "outputs": [
        {
          "output_type": "stream",
          "name": "stdout",
          "text": [
            "Epoch 1/50\n",
            "4/4 [==============================] - 1s 65ms/step - loss: 1.1459 - accuracy: 0.1667 - val_loss: 1.0792 - val_accuracy: 0.3333\n",
            "Epoch 2/50\n",
            "4/4 [==============================] - 0s 13ms/step - loss: 1.0703 - accuracy: 0.1944 - val_loss: 1.0340 - val_accuracy: 0.3333\n",
            "Epoch 3/50\n",
            "4/4 [==============================] - 0s 13ms/step - loss: 1.0028 - accuracy: 0.3333 - val_loss: 0.9909 - val_accuracy: 0.7500\n",
            "Epoch 4/50\n",
            "4/4 [==============================] - 0s 15ms/step - loss: 0.9416 - accuracy: 0.6852 - val_loss: 0.9510 - val_accuracy: 0.8333\n",
            "Epoch 5/50\n",
            "4/4 [==============================] - 0s 13ms/step - loss: 0.8831 - accuracy: 0.7870 - val_loss: 0.9143 - val_accuracy: 0.8333\n",
            "Epoch 6/50\n",
            "4/4 [==============================] - 0s 13ms/step - loss: 0.8344 - accuracy: 0.8148 - val_loss: 0.8805 - val_accuracy: 0.8333\n",
            "Epoch 7/50\n",
            "4/4 [==============================] - 0s 13ms/step - loss: 0.7868 - accuracy: 0.8056 - val_loss: 0.8488 - val_accuracy: 0.8333\n",
            "Epoch 8/50\n",
            "4/4 [==============================] - 0s 13ms/step - loss: 0.7455 - accuracy: 0.8056 - val_loss: 0.8188 - val_accuracy: 0.8333\n",
            "Epoch 9/50\n",
            "4/4 [==============================] - 0s 13ms/step - loss: 0.7089 - accuracy: 0.8148 - val_loss: 0.7905 - val_accuracy: 0.8333\n",
            "Epoch 10/50\n",
            "4/4 [==============================] - 0s 13ms/step - loss: 0.6752 - accuracy: 0.8148 - val_loss: 0.7646 - val_accuracy: 0.8333\n",
            "Epoch 11/50\n",
            "4/4 [==============================] - 0s 20ms/step - loss: 0.6443 - accuracy: 0.8241 - val_loss: 0.7406 - val_accuracy: 0.8333\n",
            "Epoch 12/50\n",
            "4/4 [==============================] - 0s 14ms/step - loss: 0.6165 - accuracy: 0.8241 - val_loss: 0.7191 - val_accuracy: 0.8333\n",
            "Epoch 13/50\n",
            "4/4 [==============================] - 0s 14ms/step - loss: 0.5922 - accuracy: 0.8241 - val_loss: 0.6989 - val_accuracy: 0.8333\n",
            "Epoch 14/50\n",
            "4/4 [==============================] - 0s 13ms/step - loss: 0.5699 - accuracy: 0.8241 - val_loss: 0.6795 - val_accuracy: 0.8333\n",
            "Epoch 15/50\n",
            "4/4 [==============================] - 0s 15ms/step - loss: 0.5495 - accuracy: 0.8241 - val_loss: 0.6610 - val_accuracy: 0.8333\n",
            "Epoch 16/50\n",
            "4/4 [==============================] - 0s 12ms/step - loss: 0.5309 - accuracy: 0.8241 - val_loss: 0.6434 - val_accuracy: 0.8333\n",
            "Epoch 17/50\n",
            "4/4 [==============================] - 0s 12ms/step - loss: 0.5137 - accuracy: 0.8241 - val_loss: 0.6265 - val_accuracy: 0.8333\n",
            "Epoch 18/50\n",
            "4/4 [==============================] - 0s 13ms/step - loss: 0.4978 - accuracy: 0.8241 - val_loss: 0.6109 - val_accuracy: 0.8333\n",
            "Epoch 19/50\n",
            "4/4 [==============================] - 0s 13ms/step - loss: 0.4832 - accuracy: 0.8241 - val_loss: 0.5958 - val_accuracy: 0.8333\n",
            "Epoch 20/50\n",
            "4/4 [==============================] - 0s 16ms/step - loss: 0.4697 - accuracy: 0.8241 - val_loss: 0.5817 - val_accuracy: 0.8333\n",
            "Epoch 21/50\n",
            "4/4 [==============================] - 0s 12ms/step - loss: 0.4573 - accuracy: 0.8333 - val_loss: 0.5682 - val_accuracy: 0.8333\n",
            "Epoch 22/50\n",
            "4/4 [==============================] - 0s 13ms/step - loss: 0.4458 - accuracy: 0.8426 - val_loss: 0.5553 - val_accuracy: 0.8333\n",
            "Epoch 23/50\n",
            "4/4 [==============================] - 0s 13ms/step - loss: 0.4351 - accuracy: 0.8426 - val_loss: 0.5432 - val_accuracy: 0.8333\n",
            "Epoch 24/50\n",
            "4/4 [==============================] - 0s 13ms/step - loss: 0.4246 - accuracy: 0.8426 - val_loss: 0.5323 - val_accuracy: 0.8333\n",
            "Epoch 25/50\n",
            "4/4 [==============================] - 0s 12ms/step - loss: 0.4150 - accuracy: 0.8426 - val_loss: 0.5222 - val_accuracy: 0.8333\n",
            "Epoch 26/50\n",
            "4/4 [==============================] - 0s 13ms/step - loss: 0.4064 - accuracy: 0.8426 - val_loss: 0.5127 - val_accuracy: 0.9167\n",
            "Epoch 27/50\n",
            "4/4 [==============================] - 0s 12ms/step - loss: 0.3974 - accuracy: 0.8426 - val_loss: 0.5033 - val_accuracy: 0.9167\n",
            "Epoch 28/50\n",
            "4/4 [==============================] - 0s 14ms/step - loss: 0.3892 - accuracy: 0.8426 - val_loss: 0.4950 - val_accuracy: 0.9167\n",
            "Epoch 29/50\n",
            "4/4 [==============================] - 0s 13ms/step - loss: 0.3817 - accuracy: 0.8519 - val_loss: 0.4866 - val_accuracy: 0.9167\n",
            "Epoch 30/50\n",
            "4/4 [==============================] - 0s 19ms/step - loss: 0.3746 - accuracy: 0.8519 - val_loss: 0.4784 - val_accuracy: 0.9167\n",
            "Epoch 31/50\n",
            "4/4 [==============================] - 0s 13ms/step - loss: 0.3680 - accuracy: 0.8519 - val_loss: 0.4706 - val_accuracy: 0.9167\n",
            "Epoch 32/50\n",
            "4/4 [==============================] - 0s 14ms/step - loss: 0.3611 - accuracy: 0.8519 - val_loss: 0.4629 - val_accuracy: 0.9167\n",
            "Epoch 33/50\n",
            "4/4 [==============================] - 0s 12ms/step - loss: 0.3552 - accuracy: 0.8519 - val_loss: 0.4559 - val_accuracy: 0.9167\n",
            "Epoch 34/50\n",
            "4/4 [==============================] - 0s 19ms/step - loss: 0.3492 - accuracy: 0.8519 - val_loss: 0.4492 - val_accuracy: 0.9167\n",
            "Epoch 35/50\n",
            "4/4 [==============================] - 0s 13ms/step - loss: 0.3433 - accuracy: 0.8611 - val_loss: 0.4426 - val_accuracy: 0.9167\n",
            "Epoch 36/50\n",
            "4/4 [==============================] - 0s 12ms/step - loss: 0.3377 - accuracy: 0.8611 - val_loss: 0.4363 - val_accuracy: 0.9167\n",
            "Epoch 37/50\n",
            "4/4 [==============================] - 0s 13ms/step - loss: 0.3323 - accuracy: 0.8611 - val_loss: 0.4305 - val_accuracy: 0.9167\n",
            "Epoch 38/50\n",
            "4/4 [==============================] - 0s 14ms/step - loss: 0.3269 - accuracy: 0.8611 - val_loss: 0.4255 - val_accuracy: 0.9167\n",
            "Epoch 39/50\n",
            "4/4 [==============================] - 0s 16ms/step - loss: 0.3218 - accuracy: 0.8611 - val_loss: 0.4202 - val_accuracy: 0.9167\n",
            "Epoch 40/50\n",
            "4/4 [==============================] - 0s 16ms/step - loss: 0.3170 - accuracy: 0.8889 - val_loss: 0.4151 - val_accuracy: 0.9167\n",
            "Epoch 41/50\n",
            "4/4 [==============================] - 0s 13ms/step - loss: 0.3122 - accuracy: 0.8981 - val_loss: 0.4099 - val_accuracy: 0.9167\n",
            "Epoch 42/50\n",
            "4/4 [==============================] - 0s 13ms/step - loss: 0.3076 - accuracy: 0.8981 - val_loss: 0.4047 - val_accuracy: 0.9167\n",
            "Epoch 43/50\n",
            "4/4 [==============================] - 0s 13ms/step - loss: 0.3037 - accuracy: 0.8981 - val_loss: 0.4005 - val_accuracy: 0.9167\n",
            "Epoch 44/50\n",
            "4/4 [==============================] - 0s 12ms/step - loss: 0.2989 - accuracy: 0.8981 - val_loss: 0.3947 - val_accuracy: 0.9167\n",
            "Epoch 45/50\n",
            "4/4 [==============================] - 0s 13ms/step - loss: 0.2945 - accuracy: 0.8981 - val_loss: 0.3892 - val_accuracy: 0.9167\n",
            "Epoch 46/50\n",
            "4/4 [==============================] - 0s 19ms/step - loss: 0.2905 - accuracy: 0.8981 - val_loss: 0.3837 - val_accuracy: 0.9167\n",
            "Epoch 47/50\n",
            "4/4 [==============================] - 0s 13ms/step - loss: 0.2865 - accuracy: 0.8981 - val_loss: 0.3790 - val_accuracy: 0.9167\n",
            "Epoch 48/50\n",
            "4/4 [==============================] - 0s 14ms/step - loss: 0.2825 - accuracy: 0.8981 - val_loss: 0.3743 - val_accuracy: 0.9167\n",
            "Epoch 49/50\n",
            "4/4 [==============================] - 0s 14ms/step - loss: 0.2786 - accuracy: 0.8981 - val_loss: 0.3712 - val_accuracy: 0.9167\n",
            "Epoch 50/50\n",
            "4/4 [==============================] - 0s 13ms/step - loss: 0.2748 - accuracy: 0.8981 - val_loss: 0.3684 - val_accuracy: 0.9167\n",
            "1/1 [==============================] - 0s 43ms/step - loss: 0.2185 - accuracy: 0.9667\n",
            "Test accuracy: 0.9666666388511658\n"
          ]
        }
      ]
    }
  ]
}