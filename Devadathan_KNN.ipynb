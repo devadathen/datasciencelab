{
  "nbformat": 4,
  "nbformat_minor": 0,
  "metadata": {
    "colab": {
      "provenance": [],
      "include_colab_link": true
    },
    "kernelspec": {
      "name": "python3",
      "display_name": "Python 3"
    },
    "language_info": {
      "name": "python"
    }
  },
  "cells": [
    {
      "cell_type": "markdown",
      "metadata": {
        "id": "view-in-github",
        "colab_type": "text"
      },
      "source": [
        "<a href=\"https://colab.research.google.com/github/devadathen/datasciencelab/blob/main/Devadathan_KNN.ipynb\" target=\"_parent\"><img src=\"https://colab.research.google.com/assets/colab-badge.svg\" alt=\"Open In Colab\"/></a>"
      ]
    },
    {
      "cell_type": "markdown",
      "source": [
        "Aim: Program to implement k-NN classification using any standard dataset\n",
        "available in the public domain and find the accuracy of the algorithm"
      ],
      "metadata": {
        "id": "1-G_D6HglkG5"
      }
    },
    {
      "cell_type": "markdown",
      "source": [
        "Algorithm:\n",
        "\n",
        "The class of an unknown instance is computed using the following steps:\n",
        "\n",
        "1. The distance between the unknown instance and all other training instances is computed.\n",
        "2. The k nearest neighbors are identified.\n",
        "3. The class labels of the k nearest neighbors are used to determine the class label of the unknown instance by using techniques like majority voting."
      ],
      "metadata": {
        "id": "O4oCOHITmArc"
      }
    },
    {
      "cell_type": "code",
      "source": [
        "# KNN implementation using iris dataset\n",
        "#import modules\n",
        "from sklearn.model_selection import train_test_split\n",
        "from sklearn.neighbors import KNeighborsClassifier\n",
        "from sklearn.metrics import accuracy_score\n",
        "import pandas as pd\n",
        "#Load Dataset\n",
        "df=pd.read_csv('/content/sample_data/iris-species (2).csv')\n",
        "print(df)\n",
        "#Implement KNN model,check accuracy\n",
        "x=df[['SepalLengthCm','SepalWidthCm','PetalLengthCm','PetalWidthCm']]\n",
        "y=df['Species']\n",
        "x_train,x_test,y_train,y_test=train_test_split(x,y,test_size=0.2,random_state=100)\n",
        "c_knn=KNeighborsClassifier(n_neighbors=3)\n",
        "c_knn.fit(x_train,y_train)\n",
        "y_pred=c_knn.predict(x_test)\n",
        "print(\"Accuracy\",accuracy_score(y_test,y_pred))\n",
        "sample=[[2,2,2,2]]\n",
        "pred=c_knn.predict(sample)\n",
        "print(pred)\n"
      ],
      "metadata": {
        "id": "bpFl09msIjWv",
        "outputId": "e3d0a037-77c2-4d6d-a80b-825bb8aa0126",
        "colab": {
          "base_uri": "https://localhost:8080/"
        }
      },
      "execution_count": null,
      "outputs": [
        {
          "output_type": "stream",
          "name": "stdout",
          "text": [
            "      Id  SepalLengthCm  SepalWidthCm  PetalLengthCm  PetalWidthCm  \\\n",
            "0      1            5.1           3.5            1.4           0.2   \n",
            "1      2            4.9           3.0            1.4           0.2   \n",
            "2      3            4.7           3.2            1.3           0.2   \n",
            "3      4            4.6           3.1            1.5           0.2   \n",
            "4      5            5.0           3.6            1.4           0.2   \n",
            "..   ...            ...           ...            ...           ...   \n",
            "145  146            6.7           3.0            5.2           2.3   \n",
            "146  147            6.3           2.5            5.0           1.9   \n",
            "147  148            6.5           3.0            5.2           2.0   \n",
            "148  149            6.2           3.4            5.4           2.3   \n",
            "149  150            5.9           3.0            5.1           1.8   \n",
            "\n",
            "            Species  \n",
            "0       Iris-setosa  \n",
            "1       Iris-setosa  \n",
            "2       Iris-setosa  \n",
            "3       Iris-setosa  \n",
            "4       Iris-setosa  \n",
            "..              ...  \n",
            "145  Iris-virginica  \n",
            "146  Iris-virginica  \n",
            "147  Iris-virginica  \n",
            "148  Iris-virginica  \n",
            "149  Iris-virginica  \n",
            "\n",
            "[150 rows x 6 columns]\n"
          ]
        }
      ]
    },
    {
      "cell_type": "code",
      "source": [],
      "metadata": {
        "id": "V4F-m_fEVIsA"
      },
      "execution_count": null,
      "outputs": []
    },
    {
      "cell_type": "code",
      "source": [
        "#KNN implementation using animal dataset\n",
        "#import modules\n",
        "\n",
        "\n",
        "#Load Dataset\n",
        "\n",
        "\n",
        "\n",
        "\n",
        "#Implement KNN model,check accuracy\n",
        "\n",
        "\n"
      ],
      "metadata": {
        "id": "cr2NDpQeK8re"
      },
      "execution_count": null,
      "outputs": []
    }
  ]
}